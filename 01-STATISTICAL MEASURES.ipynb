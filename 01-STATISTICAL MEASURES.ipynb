{
 "cells": [
  {
   "cell_type": "code",
   "execution_count": 1,
   "id": "b9d754ce-7ccf-46b5-b4bb-6b11e93f645d",
   "metadata": {},
   "outputs": [],
   "source": [
    "import warnings\n",
    "warnings.simplefilter(action='ignore',category= FutureWarning)"
   ]
  },
  {
   "cell_type": "code",
   "execution_count": 2,
   "id": "5811148a-0248-4a12-ac48-fddfcda6bad9",
   "metadata": {},
   "outputs": [],
   "source": [
    "# Importing Libraries\n",
    "import pandas as pd\n",
    "import numpy as np\n",
    "import matplotlib.pyplot as plt\n",
    "import seaborn as sns\n",
    "from scipy.stats import zscore\n",
    "from scipy.stats import skew, kurtosis"
   ]
  },
  {
   "cell_type": "code",
   "execution_count": 3,
   "id": "5aba821b-66af-44b9-b0f7-760e779b318f",
   "metadata": {},
   "outputs": [],
   "source": [
    "# Iporting file from Github\n",
    "dataset = \"https://raw.githubusercontent.com/ajaythomas200/Bangalore_Real_Estate_Data_Analysis/refs/heads/main/House_Prices.csv\""
   ]
  },
  {
   "cell_type": "code",
   "execution_count": 4,
   "id": "a3e5c302-da19-4455-943f-7a195d26063a",
   "metadata": {},
   "outputs": [
    {
     "data": {
      "text/html": [
       "<div>\n",
       "<style scoped>\n",
       "    .dataframe tbody tr th:only-of-type {\n",
       "        vertical-align: middle;\n",
       "    }\n",
       "\n",
       "    .dataframe tbody tr th {\n",
       "        vertical-align: top;\n",
       "    }\n",
       "\n",
       "    .dataframe thead th {\n",
       "        text-align: right;\n",
       "    }\n",
       "</style>\n",
       "<table border=\"1\" class=\"dataframe\">\n",
       "  <thead>\n",
       "    <tr style=\"text-align: right;\">\n",
       "      <th></th>\n",
       "      <th>location</th>\n",
       "      <th>size</th>\n",
       "      <th>total_sqft</th>\n",
       "      <th>bath</th>\n",
       "      <th>price</th>\n",
       "      <th>bhk</th>\n",
       "      <th>price_per_sqft</th>\n",
       "    </tr>\n",
       "  </thead>\n",
       "  <tbody>\n",
       "    <tr>\n",
       "      <th>0</th>\n",
       "      <td>Electronic City Phase II</td>\n",
       "      <td>2 BHK</td>\n",
       "      <td>1056.0</td>\n",
       "      <td>2.0</td>\n",
       "      <td>39.07</td>\n",
       "      <td>2</td>\n",
       "      <td>3699</td>\n",
       "    </tr>\n",
       "    <tr>\n",
       "      <th>1</th>\n",
       "      <td>Chikka Tirupathi</td>\n",
       "      <td>4 Bedroom</td>\n",
       "      <td>2600.0</td>\n",
       "      <td>5.0</td>\n",
       "      <td>120.00</td>\n",
       "      <td>4</td>\n",
       "      <td>4615</td>\n",
       "    </tr>\n",
       "    <tr>\n",
       "      <th>2</th>\n",
       "      <td>Uttarahalli</td>\n",
       "      <td>3 BHK</td>\n",
       "      <td>1440.0</td>\n",
       "      <td>2.0</td>\n",
       "      <td>62.00</td>\n",
       "      <td>3</td>\n",
       "      <td>4305</td>\n",
       "    </tr>\n",
       "    <tr>\n",
       "      <th>3</th>\n",
       "      <td>Lingadheeranahalli</td>\n",
       "      <td>3 BHK</td>\n",
       "      <td>1521.0</td>\n",
       "      <td>3.0</td>\n",
       "      <td>95.00</td>\n",
       "      <td>3</td>\n",
       "      <td>6245</td>\n",
       "    </tr>\n",
       "    <tr>\n",
       "      <th>4</th>\n",
       "      <td>Kothanur</td>\n",
       "      <td>2 BHK</td>\n",
       "      <td>1200.0</td>\n",
       "      <td>2.0</td>\n",
       "      <td>51.00</td>\n",
       "      <td>2</td>\n",
       "      <td>4250</td>\n",
       "    </tr>\n",
       "    <tr>\n",
       "      <th>...</th>\n",
       "      <td>...</td>\n",
       "      <td>...</td>\n",
       "      <td>...</td>\n",
       "      <td>...</td>\n",
       "      <td>...</td>\n",
       "      <td>...</td>\n",
       "      <td>...</td>\n",
       "    </tr>\n",
       "    <tr>\n",
       "      <th>13195</th>\n",
       "      <td>Whitefield</td>\n",
       "      <td>5 Bedroom</td>\n",
       "      <td>3453.0</td>\n",
       "      <td>4.0</td>\n",
       "      <td>231.00</td>\n",
       "      <td>5</td>\n",
       "      <td>6689</td>\n",
       "    </tr>\n",
       "    <tr>\n",
       "      <th>13196</th>\n",
       "      <td>other</td>\n",
       "      <td>4 BHK</td>\n",
       "      <td>3600.0</td>\n",
       "      <td>5.0</td>\n",
       "      <td>400.00</td>\n",
       "      <td>4</td>\n",
       "      <td>11111</td>\n",
       "    </tr>\n",
       "    <tr>\n",
       "      <th>13197</th>\n",
       "      <td>Raja Rajeshwari Nagar</td>\n",
       "      <td>2 BHK</td>\n",
       "      <td>1141.0</td>\n",
       "      <td>2.0</td>\n",
       "      <td>60.00</td>\n",
       "      <td>2</td>\n",
       "      <td>5258</td>\n",
       "    </tr>\n",
       "    <tr>\n",
       "      <th>13198</th>\n",
       "      <td>Padmanabhanagar</td>\n",
       "      <td>4 BHK</td>\n",
       "      <td>4689.0</td>\n",
       "      <td>4.0</td>\n",
       "      <td>488.00</td>\n",
       "      <td>4</td>\n",
       "      <td>10407</td>\n",
       "    </tr>\n",
       "    <tr>\n",
       "      <th>13199</th>\n",
       "      <td>Doddathoguru</td>\n",
       "      <td>1 BHK</td>\n",
       "      <td>550.0</td>\n",
       "      <td>1.0</td>\n",
       "      <td>17.00</td>\n",
       "      <td>1</td>\n",
       "      <td>3090</td>\n",
       "    </tr>\n",
       "  </tbody>\n",
       "</table>\n",
       "<p>13200 rows × 7 columns</p>\n",
       "</div>"
      ],
      "text/plain": [
       "                       location       size  total_sqft  bath   price  bhk  \\\n",
       "0      Electronic City Phase II      2 BHK      1056.0   2.0   39.07    2   \n",
       "1              Chikka Tirupathi  4 Bedroom      2600.0   5.0  120.00    4   \n",
       "2                   Uttarahalli      3 BHK      1440.0   2.0   62.00    3   \n",
       "3            Lingadheeranahalli      3 BHK      1521.0   3.0   95.00    3   \n",
       "4                      Kothanur      2 BHK      1200.0   2.0   51.00    2   \n",
       "...                         ...        ...         ...   ...     ...  ...   \n",
       "13195                Whitefield  5 Bedroom      3453.0   4.0  231.00    5   \n",
       "13196                     other      4 BHK      3600.0   5.0  400.00    4   \n",
       "13197     Raja Rajeshwari Nagar      2 BHK      1141.0   2.0   60.00    2   \n",
       "13198           Padmanabhanagar      4 BHK      4689.0   4.0  488.00    4   \n",
       "13199              Doddathoguru      1 BHK       550.0   1.0   17.00    1   \n",
       "\n",
       "       price_per_sqft  \n",
       "0                3699  \n",
       "1                4615  \n",
       "2                4305  \n",
       "3                6245  \n",
       "4                4250  \n",
       "...               ...  \n",
       "13195            6689  \n",
       "13196           11111  \n",
       "13197            5258  \n",
       "13198           10407  \n",
       "13199            3090  \n",
       "\n",
       "[13200 rows x 7 columns]"
      ]
     },
     "execution_count": 4,
     "metadata": {},
     "output_type": "execute_result"
    }
   ],
   "source": [
    "df = pd.read_csv(dataset)\n",
    "df"
   ]
  },
  {
   "cell_type": "code",
   "execution_count": 5,
   "id": "a159f50d-4520-4779-9124-e232d396ca34",
   "metadata": {},
   "outputs": [
    {
     "data": {
      "text/html": [
       "<div>\n",
       "<style scoped>\n",
       "    .dataframe tbody tr th:only-of-type {\n",
       "        vertical-align: middle;\n",
       "    }\n",
       "\n",
       "    .dataframe tbody tr th {\n",
       "        vertical-align: top;\n",
       "    }\n",
       "\n",
       "    .dataframe thead th {\n",
       "        text-align: right;\n",
       "    }\n",
       "</style>\n",
       "<table border=\"1\" class=\"dataframe\">\n",
       "  <thead>\n",
       "    <tr style=\"text-align: right;\">\n",
       "      <th></th>\n",
       "      <th>location</th>\n",
       "      <th>size</th>\n",
       "      <th>total_sqft</th>\n",
       "      <th>bath</th>\n",
       "      <th>price</th>\n",
       "      <th>bhk</th>\n",
       "      <th>price_per_sqft</th>\n",
       "    </tr>\n",
       "  </thead>\n",
       "  <tbody>\n",
       "    <tr>\n",
       "      <th>0</th>\n",
       "      <td>Electronic City Phase II</td>\n",
       "      <td>2 BHK</td>\n",
       "      <td>1056.0</td>\n",
       "      <td>2.0</td>\n",
       "      <td>39.07</td>\n",
       "      <td>2</td>\n",
       "      <td>3699</td>\n",
       "    </tr>\n",
       "    <tr>\n",
       "      <th>1</th>\n",
       "      <td>Chikka Tirupathi</td>\n",
       "      <td>4 Bedroom</td>\n",
       "      <td>2600.0</td>\n",
       "      <td>5.0</td>\n",
       "      <td>120.00</td>\n",
       "      <td>4</td>\n",
       "      <td>4615</td>\n",
       "    </tr>\n",
       "    <tr>\n",
       "      <th>2</th>\n",
       "      <td>Uttarahalli</td>\n",
       "      <td>3 BHK</td>\n",
       "      <td>1440.0</td>\n",
       "      <td>2.0</td>\n",
       "      <td>62.00</td>\n",
       "      <td>3</td>\n",
       "      <td>4305</td>\n",
       "    </tr>\n",
       "    <tr>\n",
       "      <th>3</th>\n",
       "      <td>Lingadheeranahalli</td>\n",
       "      <td>3 BHK</td>\n",
       "      <td>1521.0</td>\n",
       "      <td>3.0</td>\n",
       "      <td>95.00</td>\n",
       "      <td>3</td>\n",
       "      <td>6245</td>\n",
       "    </tr>\n",
       "    <tr>\n",
       "      <th>4</th>\n",
       "      <td>Kothanur</td>\n",
       "      <td>2 BHK</td>\n",
       "      <td>1200.0</td>\n",
       "      <td>2.0</td>\n",
       "      <td>51.00</td>\n",
       "      <td>2</td>\n",
       "      <td>4250</td>\n",
       "    </tr>\n",
       "  </tbody>\n",
       "</table>\n",
       "</div>"
      ],
      "text/plain": [
       "                   location       size  total_sqft  bath   price  bhk  \\\n",
       "0  Electronic City Phase II      2 BHK      1056.0   2.0   39.07    2   \n",
       "1          Chikka Tirupathi  4 Bedroom      2600.0   5.0  120.00    4   \n",
       "2               Uttarahalli      3 BHK      1440.0   2.0   62.00    3   \n",
       "3        Lingadheeranahalli      3 BHK      1521.0   3.0   95.00    3   \n",
       "4                  Kothanur      2 BHK      1200.0   2.0   51.00    2   \n",
       "\n",
       "   price_per_sqft  \n",
       "0            3699  \n",
       "1            4615  \n",
       "2            4305  \n",
       "3            6245  \n",
       "4            4250  "
      ]
     },
     "execution_count": 5,
     "metadata": {},
     "output_type": "execute_result"
    }
   ],
   "source": [
    "df.head()"
   ]
  },
  {
   "cell_type": "code",
   "execution_count": 7,
   "id": "66e93749-ee48-4207-b975-50c9e668b155",
   "metadata": {},
   "outputs": [
    {
     "data": {
      "text/html": [
       "<div>\n",
       "<style scoped>\n",
       "    .dataframe tbody tr th:only-of-type {\n",
       "        vertical-align: middle;\n",
       "    }\n",
       "\n",
       "    .dataframe tbody tr th {\n",
       "        vertical-align: top;\n",
       "    }\n",
       "\n",
       "    .dataframe thead th {\n",
       "        text-align: right;\n",
       "    }\n",
       "</style>\n",
       "<table border=\"1\" class=\"dataframe\">\n",
       "  <thead>\n",
       "    <tr style=\"text-align: right;\">\n",
       "      <th></th>\n",
       "      <th>location</th>\n",
       "      <th>size</th>\n",
       "      <th>total_sqft</th>\n",
       "      <th>bath</th>\n",
       "      <th>price</th>\n",
       "      <th>bhk</th>\n",
       "      <th>price_per_sqft</th>\n",
       "    </tr>\n",
       "  </thead>\n",
       "  <tbody>\n",
       "    <tr>\n",
       "      <th>13195</th>\n",
       "      <td>Whitefield</td>\n",
       "      <td>5 Bedroom</td>\n",
       "      <td>3453.0</td>\n",
       "      <td>4.0</td>\n",
       "      <td>231.0</td>\n",
       "      <td>5</td>\n",
       "      <td>6689</td>\n",
       "    </tr>\n",
       "    <tr>\n",
       "      <th>13196</th>\n",
       "      <td>other</td>\n",
       "      <td>4 BHK</td>\n",
       "      <td>3600.0</td>\n",
       "      <td>5.0</td>\n",
       "      <td>400.0</td>\n",
       "      <td>4</td>\n",
       "      <td>11111</td>\n",
       "    </tr>\n",
       "    <tr>\n",
       "      <th>13197</th>\n",
       "      <td>Raja Rajeshwari Nagar</td>\n",
       "      <td>2 BHK</td>\n",
       "      <td>1141.0</td>\n",
       "      <td>2.0</td>\n",
       "      <td>60.0</td>\n",
       "      <td>2</td>\n",
       "      <td>5258</td>\n",
       "    </tr>\n",
       "    <tr>\n",
       "      <th>13198</th>\n",
       "      <td>Padmanabhanagar</td>\n",
       "      <td>4 BHK</td>\n",
       "      <td>4689.0</td>\n",
       "      <td>4.0</td>\n",
       "      <td>488.0</td>\n",
       "      <td>4</td>\n",
       "      <td>10407</td>\n",
       "    </tr>\n",
       "    <tr>\n",
       "      <th>13199</th>\n",
       "      <td>Doddathoguru</td>\n",
       "      <td>1 BHK</td>\n",
       "      <td>550.0</td>\n",
       "      <td>1.0</td>\n",
       "      <td>17.0</td>\n",
       "      <td>1</td>\n",
       "      <td>3090</td>\n",
       "    </tr>\n",
       "  </tbody>\n",
       "</table>\n",
       "</div>"
      ],
      "text/plain": [
       "                    location       size  total_sqft  bath  price  bhk  \\\n",
       "13195             Whitefield  5 Bedroom      3453.0   4.0  231.0    5   \n",
       "13196                  other      4 BHK      3600.0   5.0  400.0    4   \n",
       "13197  Raja Rajeshwari Nagar      2 BHK      1141.0   2.0   60.0    2   \n",
       "13198        Padmanabhanagar      4 BHK      4689.0   4.0  488.0    4   \n",
       "13199           Doddathoguru      1 BHK       550.0   1.0   17.0    1   \n",
       "\n",
       "       price_per_sqft  \n",
       "13195            6689  \n",
       "13196           11111  \n",
       "13197            5258  \n",
       "13198           10407  \n",
       "13199            3090  "
      ]
     },
     "execution_count": 7,
     "metadata": {},
     "output_type": "execute_result"
    }
   ],
   "source": [
    "df.tail()"
   ]
  },
  {
   "cell_type": "code",
   "execution_count": 8,
   "id": "b91e2f91-3ffb-4a97-917d-e2be809135a9",
   "metadata": {},
   "outputs": [
    {
     "name": "stdout",
     "output_type": "stream",
     "text": [
      "<class 'pandas.core.frame.DataFrame'>\n",
      "RangeIndex: 13200 entries, 0 to 13199\n",
      "Data columns (total 7 columns):\n",
      " #   Column          Non-Null Count  Dtype  \n",
      "---  ------          --------------  -----  \n",
      " 0   location        13200 non-null  object \n",
      " 1   size            13200 non-null  object \n",
      " 2   total_sqft      13200 non-null  float64\n",
      " 3   bath            13200 non-null  float64\n",
      " 4   price           13200 non-null  float64\n",
      " 5   bhk             13200 non-null  int64  \n",
      " 6   price_per_sqft  13200 non-null  int64  \n",
      "dtypes: float64(3), int64(2), object(2)\n",
      "memory usage: 722.0+ KB\n"
     ]
    }
   ],
   "source": [
    "df.info()"
   ]
  },
  {
   "cell_type": "code",
   "execution_count": 9,
   "id": "2e65d38b-3bbf-47fd-87f4-9e460aa9c635",
   "metadata": {},
   "outputs": [
    {
     "data": {
      "text/html": [
       "<div>\n",
       "<style scoped>\n",
       "    .dataframe tbody tr th:only-of-type {\n",
       "        vertical-align: middle;\n",
       "    }\n",
       "\n",
       "    .dataframe tbody tr th {\n",
       "        vertical-align: top;\n",
       "    }\n",
       "\n",
       "    .dataframe thead th {\n",
       "        text-align: right;\n",
       "    }\n",
       "</style>\n",
       "<table border=\"1\" class=\"dataframe\">\n",
       "  <thead>\n",
       "    <tr style=\"text-align: right;\">\n",
       "      <th></th>\n",
       "      <th>total_sqft</th>\n",
       "      <th>bath</th>\n",
       "      <th>price</th>\n",
       "      <th>bhk</th>\n",
       "      <th>price_per_sqft</th>\n",
       "    </tr>\n",
       "  </thead>\n",
       "  <tbody>\n",
       "    <tr>\n",
       "      <th>count</th>\n",
       "      <td>13200.000000</td>\n",
       "      <td>13200.000000</td>\n",
       "      <td>13200.000000</td>\n",
       "      <td>13200.000000</td>\n",
       "      <td>1.320000e+04</td>\n",
       "    </tr>\n",
       "    <tr>\n",
       "      <th>mean</th>\n",
       "      <td>1555.302783</td>\n",
       "      <td>2.691136</td>\n",
       "      <td>112.276178</td>\n",
       "      <td>2.800833</td>\n",
       "      <td>7.920337e+03</td>\n",
       "    </tr>\n",
       "    <tr>\n",
       "      <th>std</th>\n",
       "      <td>1237.323445</td>\n",
       "      <td>1.338915</td>\n",
       "      <td>149.175995</td>\n",
       "      <td>1.292843</td>\n",
       "      <td>1.067272e+05</td>\n",
       "    </tr>\n",
       "    <tr>\n",
       "      <th>min</th>\n",
       "      <td>1.000000</td>\n",
       "      <td>1.000000</td>\n",
       "      <td>8.000000</td>\n",
       "      <td>1.000000</td>\n",
       "      <td>2.670000e+02</td>\n",
       "    </tr>\n",
       "    <tr>\n",
       "      <th>25%</th>\n",
       "      <td>1100.000000</td>\n",
       "      <td>2.000000</td>\n",
       "      <td>50.000000</td>\n",
       "      <td>2.000000</td>\n",
       "      <td>4.267000e+03</td>\n",
       "    </tr>\n",
       "    <tr>\n",
       "      <th>50%</th>\n",
       "      <td>1275.000000</td>\n",
       "      <td>2.000000</td>\n",
       "      <td>71.850000</td>\n",
       "      <td>3.000000</td>\n",
       "      <td>5.438000e+03</td>\n",
       "    </tr>\n",
       "    <tr>\n",
       "      <th>75%</th>\n",
       "      <td>1672.000000</td>\n",
       "      <td>3.000000</td>\n",
       "      <td>120.000000</td>\n",
       "      <td>3.000000</td>\n",
       "      <td>7.317000e+03</td>\n",
       "    </tr>\n",
       "    <tr>\n",
       "      <th>max</th>\n",
       "      <td>52272.000000</td>\n",
       "      <td>40.000000</td>\n",
       "      <td>3600.000000</td>\n",
       "      <td>43.000000</td>\n",
       "      <td>1.200000e+07</td>\n",
       "    </tr>\n",
       "  </tbody>\n",
       "</table>\n",
       "</div>"
      ],
      "text/plain": [
       "         total_sqft          bath         price           bhk  price_per_sqft\n",
       "count  13200.000000  13200.000000  13200.000000  13200.000000    1.320000e+04\n",
       "mean    1555.302783      2.691136    112.276178      2.800833    7.920337e+03\n",
       "std     1237.323445      1.338915    149.175995      1.292843    1.067272e+05\n",
       "min        1.000000      1.000000      8.000000      1.000000    2.670000e+02\n",
       "25%     1100.000000      2.000000     50.000000      2.000000    4.267000e+03\n",
       "50%     1275.000000      2.000000     71.850000      3.000000    5.438000e+03\n",
       "75%     1672.000000      3.000000    120.000000      3.000000    7.317000e+03\n",
       "max    52272.000000     40.000000   3600.000000     43.000000    1.200000e+07"
      ]
     },
     "execution_count": 9,
     "metadata": {},
     "output_type": "execute_result"
    }
   ],
   "source": [
    "df.describe()"
   ]
  },
  {
   "cell_type": "code",
   "execution_count": 10,
   "id": "6d0b2df2-d024-416e-847f-930b829115ec",
   "metadata": {},
   "outputs": [
    {
     "data": {
      "text/plain": [
       "location           object\n",
       "size               object\n",
       "total_sqft        float64\n",
       "bath              float64\n",
       "price             float64\n",
       "bhk                 int64\n",
       "price_per_sqft      int64\n",
       "dtype: object"
      ]
     },
     "execution_count": 10,
     "metadata": {},
     "output_type": "execute_result"
    }
   ],
   "source": [
    "df.dtypes"
   ]
  },
  {
   "cell_type": "code",
   "execution_count": 11,
   "id": "9383b34f-1579-46d3-b698-17e3ba4c98cc",
   "metadata": {},
   "outputs": [
    {
     "data": {
      "text/plain": [
       "location          0\n",
       "size              0\n",
       "total_sqft        0\n",
       "bath              0\n",
       "price             0\n",
       "bhk               0\n",
       "price_per_sqft    0\n",
       "dtype: int64"
      ]
     },
     "execution_count": 11,
     "metadata": {},
     "output_type": "execute_result"
    }
   ],
   "source": [
    "df.isnull().sum()"
   ]
  },
  {
   "cell_type": "code",
   "execution_count": 12,
   "id": "07b9f81a-ca25-4bda-91b4-0cca117c82de",
   "metadata": {},
   "outputs": [
    {
     "data": {
      "image/png": "[encoded data removed]",
      "text/plain": [
       "<Figure size 1000x500 with 1 Axes>"
      ]
     },
     "metadata": {},
     "output_type": "display_data"
    }
   ],
   "source": [
    "# Histogram of price per sqft\n",
    "plt.figure(figsize=(10,5))\n",
    "sns.histplot(df[\"price_per_sqft\"], bins=30, kde=True, color=\"blue\")\n",
    "plt.title(\"Distribution of Price per Sqft\")\n",
    "plt.xlabel(\"Price per Sqft\")\n",
    "plt.ylabel(\"Frequency\")\n",
    "plt.show()"
   ]
  },
  {
   "cell_type": "code",
   "execution_count": 13,
   "id": "0ef08e3c-347c-4198-8bd2-62166fbcd622",
   "metadata": {},
   "outputs": [
    {
     "data": {
      "image/png": "[encoded data removed]",
      "text/plain": [
       "<Figure size 1000x500 with 1 Axes>"
      ]
     },
     "metadata": {},
     "output_type": "display_data"
    }
   ],
   "source": [
    "# Boxplot to detect outliers in price per sqft\n",
    "plt.figure(figsize=(10, 5))\n",
    "sns.boxplot(x=df[\"price_per_sqft\"], color=\"blue\")\n",
    "plt.title(\"Boxplot of Price per Sqft\")\n",
    "plt.xlabel(\"Price per Sqft\")\n",
    "plt.show()"
   ]
  },
  {
   "cell_type": "code",
   "execution_count": 14,
   "id": "0ef63829-deb6-40d9-af60-82245338a255",
   "metadata": {},
   "outputs": [
    {
     "data": {
      "image/png": "[encoded data removed]",
      "text/plain": [
       "<Figure size 800x500 with 1 Axes>"
      ]
     },
     "metadata": {},
     "output_type": "display_data"
    }
   ],
   "source": [
    "# Count plot for number of BHKs\n",
    "plt.figure(figsize=(8, 5))\n",
    "sns.countplot(x=df[\"bhk\"], palette=\"viridis\")\n",
    "plt.title(\"Count of Different BHKs\")\n",
    "plt.xlabel(\"BHK\")\n",
    "plt.ylabel(\"Count\")\n",
    "plt.show()"
   ]
  },
  {
   "cell_type": "markdown",
   "id": "95b0208b-b513-4800-891e-911880a50942",
   "metadata": {},
   "source": [
    "# Q2. Detecting the outliers and removing that using trimming/ capping/ imputation using mean or median\n",
    "1. Mean and standard deviation\n",
    "2. Percentile method\n",
    "3. IQR(inter quartile range method)\n",
    "4. Z score method"
   ]
  },
  {
   "cell_type": "markdown",
   "id": "0571b680-0ae8-408a-8940-dc4eca825862",
   "metadata": {},
   "source": [
    "# 1.Mean and standard deviation method"
   ]
  },
  {
   "cell_type": "code",
   "execution_count": 19,
   "id": "4ba828f5-ba61-49da-ba46-475db59a5881",
   "metadata": {},
   "outputs": [
    {
     "name": "stdout",
     "output_type": "stream",
     "text": [
      "Outliers detected using Mean & Std Dev: 5\n"
     ]
    }
   ],
   "source": [
    "# Calculate mean and standard deviation\n",
    "mean_value = df[\"price_per_sqft\"].mean()\n",
    "std_dev_value = df[\"price_per_sqft\"].std()\n",
    "\n",
    "# Define threshold (3 standard deviations from mean)\n",
    "lower_bound = mean_value - (3 * std_dev_value)\n",
    "upper_bound = mean_value + (3 * std_dev_value)\n",
    "\n",
    "# Detect outliers\n",
    "outliers_std_dev = df[(df[\"price_per_sqft\"] < lower_bound) | (df[\"price_per_sqft\"] > upper_bound)]\n",
    "print(f\"Outliers detected using Mean & Std Dev: {len(outliers_std_dev)}\")"
   ]
  },
  {
   "cell_type": "code",
   "execution_count": 20,
   "id": "f123c769-62db-4ac1-94e4-08e89f50d42e",
   "metadata": {},
   "outputs": [],
   "source": [
    "# Trimming Remove outliers\n",
    "df_trimmed_std = df[(df[\"price_per_sqft\"] >= lower_bound) & (df[\"price_per_sqft\"] <= upper_bound)]"
   ]
  },
  {
   "cell_type": "code",
   "execution_count": 21,
   "id": "3d661ee4-dbfa-4c53-a1a1-968bc0e2f572",
   "metadata": {},
   "outputs": [],
   "source": [
    "# Imputation Replace outliers with mean\n",
    "df_imputed_std = df.copy()\n",
    "df_imputed_std.loc[(df[\"price_per_sqft\"] < lower_bound) | (df[\"price_per_sqft\"] > upper_bound), \"price_per_sqft\"] = mean_value"
   ]
  },
  {
   "cell_type": "code",
   "execution_count": 22,
   "id": "bc5af4f0-8ff0-489a-896c-e57d4f16a319",
   "metadata": {},
   "outputs": [
    {
     "ename": "NameError",
     "evalue": "name 'df_capped_std' is not defined",
     "output_type": "error",
     "traceback": [
      "\u001b[1;31m---------------------------------------------------------------------------\u001b[0m",
      "\u001b[1;31mNameError\u001b[0m                                 Traceback (most recent call last)",
      "Cell \u001b[1;32mIn[22], line 12\u001b[0m\n\u001b[0;32m     10\u001b[0m \u001b[38;5;66;03m# After imputation\u001b[39;00m\n\u001b[0;32m     11\u001b[0m plt\u001b[38;5;241m.\u001b[39msubplot(\u001b[38;5;241m1\u001b[39m, \u001b[38;5;241m3\u001b[39m, \u001b[38;5;241m2\u001b[39m)\n\u001b[1;32m---> 12\u001b[0m sns\u001b[38;5;241m.\u001b[39mhistplot(df_capped_std[\u001b[38;5;124m\"\u001b[39m\u001b[38;5;124mprice_per_sqft\u001b[39m\u001b[38;5;124m\"\u001b[39m],  kde\u001b[38;5;241m=\u001b[39m\u001b[38;5;28;01mTrue\u001b[39;00m)\n\u001b[0;32m     13\u001b[0m plt\u001b[38;5;241m.\u001b[39mtitle(\u001b[38;5;124m\"\u001b[39m\u001b[38;5;124mAfter Imputation\u001b[39m\u001b[38;5;124m\"\u001b[39m)\n\u001b[0;32m     15\u001b[0m plt\u001b[38;5;241m.\u001b[39mtight_layout()\n",
      "\u001b[1;31mNameError\u001b[0m: name 'df_capped_std' is not defined"
     ]
    },
    {
     "data": {
      "image/png": "[encoded data removed]",
      "text/plain": [
       "<Figure size 1200x400 with 2 Axes>"
      ]
     },
     "metadata": {},
     "output_type": "display_data"
    }
   ],
   "source": [
    "# Using hisplot to check the skewness\n",
    "\n",
    "plt.figure(figsize=(12, 4))\n",
    "\n",
    "# After Trimming\n",
    "plt.subplot(1, 3, 1)\n",
    "sns.histplot(df_trimmed_std[\"price_per_sqft\"], kde=True)\n",
    "plt.title(\"After Trimming\")\n",
    "\n",
    "# After imputation\n",
    "plt.subplot(1, 3, 2)\n",
    "sns.histplot(df_capped_std[\"price_per_sqft\"],  kde=True)\n",
    "plt.title(\"After Imputation\")\n",
    "\n",
    "plt.tight_layout()\n",
    "plt.show()"
   ]
  },
  {
   "cell_type": "markdown",
   "id": "06d9d945-faf6-4f65-8d4a-c39b3f691088",
   "metadata": {},
   "source": [
    "# 2. Percentile method"
   ]
  },
  {
   "cell_type": "code",
   "execution_count": null,
   "id": "b6e8bd5a-67a2-4794-8108-81b2ce700458",
   "metadata": {},
   "outputs": [],
   "source": [
    "low_percentile = df[\"price_per_sqft\"].quantile(0.05)\n",
    "high_percentile = df[\"price_per_sqft\"].quantile(0.95)\n",
    "\n",
    "# Trimming\n",
    "df_trimmed_percentile = df[(df[\"price_per_sqft\"] >= low_percentile) & (df[\"price_per_sqft\"] <= high_percentile)]\n",
    "\n",
    "# Capping\n",
    "df_capped_percentile = df.copy()\n",
    "df_capped_percentile[\"price_per_sqft\"] = np.clip(df[\"price_per_sqft\"], low_percentile, high_percentile)"
   ]
  },
  {
   "cell_type": "code",
   "execution_count": null,
   "id": "e30a5bef-5f48-4525-8377-c15418c769d1",
   "metadata": {},
   "outputs": [],
   "source": [
    "plt.figure(figsize=(12, 4))\n",
    "\n",
    "# After Trimming\n",
    "plt.subplot(1, 3, 1)\n",
    "sns.histplot(df_trimmed_percentile[\"price_per_sqft\"], kde=True)\n",
    "plt.title(\"After Trimming\")\n",
    "\n",
    "# After imputation\n",
    "plt.subplot(1, 3, 2)\n",
    "sns.histplot(df_capped_percentile[\"price_per_sqft\"],  kde=True)\n",
    "plt.title(\"After Capping\")\n",
    "\n",
    "plt.tight_layout()\n",
    "plt.show()"
   ]
  },
  {
   "cell_type": "markdown",
   "id": "4a6bd0b0-2eaf-4c99-801e-0e091e478d72",
   "metadata": {},
   "source": [
    "# 3. IQR Method"
   ]
  },
  {
   "cell_type": "code",
   "execution_count": null,
   "id": "1bb40566-b0eb-4f7a-9d7f-b35e427d4d8f",
   "metadata": {},
   "outputs": [],
   "source": [
    "Q1 = df[\"price_per_sqft\"].quantile(0.25)\n",
    "Q3 = df[\"price_per_sqft\"].quantile(0.75)\n",
    "IQR = Q3 - Q1\n",
    "\n",
    "lower_bound = Q1 - (1.5 * IQR)\n",
    "upper_bound = Q3 + (1.5 * IQR)\n",
    "\n",
    "# Trimming\n",
    "df_trimmed_iqr = df[(df[\"price_per_sqft\"] >= lower_bound) & (df[\"price_per_sqft\"] <= upper_bound)]"
   ]
  },
  {
   "cell_type": "code",
   "execution_count": null,
   "id": "c64cfd7e-4703-4745-961e-5710bb1c150f",
   "metadata": {},
   "outputs": [],
   "source": [
    "# After Trimming\n",
    "plt.figure(figsize=(12, 4))\n",
    "sns.histplot(df_trimmed_iqr[\"price_per_sqft\"], kde=True)\n",
    "plt.title(\"Price per square feet distribution\")\n",
    "plt.show()"
   ]
  },
  {
   "cell_type": "markdown",
   "id": "584f9330-fbc6-41a0-8d77-5677ee380d18",
   "metadata": {},
   "source": [
    "# 4. Z score method"
   ]
  },
  {
   "cell_type": "code",
   "execution_count": null,
   "id": "b9591f10-7828-47a1-afd2-151f3f563784",
   "metadata": {},
   "outputs": [],
   "source": [
    "df[\"z_score\"] = zscore(df[\"price_per_sqft\"])\n",
    "# Trimming\n",
    "df_trimmed_z = df[(df[\"z_score\"].abs() <= 3)]\n",
    "df_trimmed_z = df_trimmed_z.drop(columns=[\"z_score\"])"
   ]
  },
  {
   "cell_type": "code",
   "execution_count": null,
   "id": "a3fe26fa-2b4e-41af-845b-bbd13bb26217",
   "metadata": {},
   "outputs": [],
   "source": [
    "# After Trimming\n",
    "plt.figure(figsize=(12, 4))\n",
    "sns.histplot(df_trimmed_z[\"price_per_sqft\"], kde=True)\n",
    "plt.title(\"Price per square feet distribution\")\n",
    "plt.show()"
   ]
  },
  {
   "cell_type": "markdown",
   "id": "5f91e0ce-a335-4772-8675-0efd61c25fd5",
   "metadata": {},
   "source": [
    "# Q3. Creating box plot for determine which method seems to work best to remove outliers of this data"
   ]
  },
  {
   "cell_type": "code",
   "execution_count": null,
   "id": "27e54be1-4741-4a6a-a985-cfd300ec775a",
   "metadata": {},
   "outputs": [],
   "source": [
    "# create subplots\n",
    "fig, axs = plt.subplots(1,5, figsize = (15,5))\n",
    "\n",
    "# Boxplot for data 1\n",
    "axs[0].boxplot(df['price_per_sqft'])\n",
    "axs[0].set_title('Original Data')\n",
    "axs[0].set_xlabel('Price_per_sqft')\n",
    "axs[0].set_ylabel('Value')\n",
    "\n",
    "# Box plot for data 2\n",
    "axs[1].boxplot(df_trimmed_std['price_per_sqft'])\n",
    "axs[1].set_title('Mean_Std')\n",
    "axs[1].set_xlabel('Price_per_sqft')\n",
    "axs[1].set_ylabel('Value')\n",
    "\n",
    "# Box plot for data 3\n",
    "axs[2].boxplot(df_trimmed_percentile['price_per_sqft'])\n",
    "axs[2].set_title('Percentile')\n",
    "axs[2].set_xlabel('Price_per_sqft')\n",
    "axs[2].set_ylabel('Value')\n",
    "\n",
    "# Box plot for data 4\n",
    "axs[3].boxplot(df_trimmed_iqr['price_per_sqft'])\n",
    "axs[3].set_title('IQR')\n",
    "axs[3].set_xlabel('Price_per_sqft')\n",
    "axs[3].set_ylabel('Value')\n",
    "\n",
    "# Box plot for data 5\n",
    "axs[4].boxplot(df_trimmed_z['price_per_sqft'])\n",
    "axs[4].set_title('Z_score')\n",
    "axs[4].set_xlabel('Price_per_sqft')\n",
    "axs[4].set_ylabel('Value')\n",
    "\n",
    "# Adjust layout\n",
    "plt.tight_layout()\n",
    "plt.show()"
   ]
  },
  {
   "cell_type": "markdown",
   "id": "22390d74-00e4-438f-be07-144c1bddd8a7",
   "metadata": {},
   "source": [
    "# Q4. Draw histplot to check the normality of the column(price per sqft column). Check the skewness and kurtosis before and after the transformation. "
   ]
  },
  {
   "cell_type": "code",
   "execution_count": null,
   "id": "60cac4f4-0c23-408f-b5ac-689f6d1922f4",
   "metadata": {},
   "outputs": [],
   "source": [
    "# Original Distribution\n",
    "plt.figure(figsize=(12, 6))\n",
    "sns.histplot(df[\"price_per_sqft\"], bins=30, kde=True)\n",
    "plt.title(\"Original Data Distribution\")\n",
    "plt.show()\n",
    "\n",
    "# Skewness & Kurtosis Before transfromation\n",
    "print(\"Skewness Before:\", skew(df[\"price_per_sqft\"]))\n",
    "print(\"Kurtosis Before:\", kurtosis(df[\"price_per_sqft\"]))\n",
    "\n",
    "# Apply Log Transformation\n",
    "df[\"price_per_sqft_log\"] = np.log1p(df[\"price_per_sqft\"])\n",
    "\n",
    "# Plot After Transformation\n",
    "plt.figure(figsize=(12, 6))\n",
    "sns.histplot(df[\"price_per_sqft_log\"], bins=30, kde=True)\n",
    "plt.title(\"Log Transformed Data\")\n",
    "plt.show()\n",
    "\n",
    "# Skewness & Kurtosis After\n",
    "print(\"Skewness After:\", skew(df['price_per_sqft_log']))\n",
    "print(\"Kurtosis After:\", kurtosis(df['price_per_sqft_log']))"
   ]
  },
  {
   "cell_type": "markdown",
   "id": "967694f6-825e-43a4-8dbd-d4e949109c88",
   "metadata": {},
   "source": [
    "# Q5. Check the correlation between all the numerical columns and plot heatmap"
   ]
  },
  {
   "cell_type": "code",
   "execution_count": 31,
   "id": "44df86ed-9c05-486d-938b-c818fd5bdbd9",
   "metadata": {},
   "outputs": [
    {
     "data": {
      "image/png": "[encoded data removed]",
      "text/plain": [
       "<Figure size 1000x600 with 2 Axes>"
      ]
     },
     "metadata": {},
     "output_type": "display_data"
    }
   ],
   "source": [
    "correlation_matrix = df.select_dtypes(include='number').corr()\n",
    "plt.figure(figsize=(10, 6))\n",
    "sns.heatmap(correlation_matrix, annot=True,  fmt=\".2f\", cmap=\"coolwarm\")\n",
    "plt.title(\"Correlation Heatmap\")\n",
    "plt.show()"
   ]
  },
  {
   "cell_type": "markdown",
   "id": "59022ebb-3a3e-4549-979a-813397f2f648",
   "metadata": {},
   "source": [
    "# Q6. Draw Scatter plot between the variables to check the correlation between them"
   ]
  },
  {
   "cell_type": "code",
   "execution_count": 34,
   "id": "b51fa0f6-96c5-4bd0-8262-9156fa2d9682",
   "metadata": {},
   "outputs": [
    {
     "data": {
      "image/png": "[encoded data removed]",
      "text/plain": [
       "<Figure size 1200x600 with 1 Axes>"
      ]
     },
     "metadata": {},
     "output_type": "display_data"
    }
   ],
   "source": [
    "plt.figure(figsize=(12, 6))\n",
    "sns.scatterplot(x=df[\"total_sqft\"], y=df[\"price_per_sqft\"])\n",
    "plt.xlabel(\"Total Sqft\")\n",
    "plt.ylabel(\"Price per Sqft\")\n",
    "plt.title(\"Scatter Plot: Total Sqft vs Price per Sqft\")\n",
    "plt.show()"
   ]
  }
 ],
 "metadata": {
  "kernelspec": {
   "display_name": "Python [conda env:base] *",
   "language": "python",
   "name": "conda-base-py"
  },
  "language_info": {
   "codemirror_mode": {
    "name": "ipython",
    "version": 3
   },
   "file_extension": ".py",
   "mimetype": "text/x-python",
   "name": "python",
   "nbconvert_exporter": "python",
   "pygments_lexer": "ipython3",
   "version": "3.12.7"
  }
 },
 "nbformat": 4,
 "nbformat_minor": 5
}
